{
  "cells": [
    {
      "cell_type": "markdown",
      "metadata": {
        "id": "view-in-github",
        "colab_type": "text"
      },
      "source": [
        "<a href=\"https://colab.research.google.com/github/vsoni03/AI-projects/blob/main/Personal_Deep_Q_Learning_for_Lunar_Landing.ipynb\" target=\"_parent\"><img src=\"https://colab.research.google.com/assets/colab-badge.svg\" alt=\"Open In Colab\"/></a>"
      ]
    },
    {
      "cell_type": "markdown",
      "metadata": {
        "id": "LbZcI9ZXHl3a"
      },
      "source": [
        "# Deep Q-Learning for Lunar Landing"
      ]
    },
    {
      "cell_type": "markdown",
      "metadata": {
        "id": "E8yPRjteXgPb"
      },
      "source": [
        "## Part 0 - Installing the required packages and importing the libraries"
      ]
    },
    {
      "cell_type": "markdown",
      "metadata": {
        "id": "slEm5teGWjWU"
      },
      "source": [
        "### Installing Gymnasium"
      ]
    },
    {
      "cell_type": "code",
      "execution_count": null,
      "metadata": {
        "colab": {
          "base_uri": "https://localhost:8080/"
        },
        "id": "dbnq3XpoKa_7",
        "outputId": "cceca49d-11e2-4580-bf36-d1f9bcb21bc0"
      },
      "outputs": [
        {
          "output_type": "stream",
          "name": "stdout",
          "text": [
            "Requirement already satisfied: gymnasium in /usr/local/lib/python3.10/dist-packages (1.0.0)\n",
            "Requirement already satisfied: numpy>=1.21.0 in /usr/local/lib/python3.10/dist-packages (from gymnasium) (1.26.4)\n",
            "Requirement already satisfied: cloudpickle>=1.2.0 in /usr/local/lib/python3.10/dist-packages (from gymnasium) (3.1.0)\n",
            "Requirement already satisfied: typing-extensions>=4.3.0 in /usr/local/lib/python3.10/dist-packages (from gymnasium) (4.12.2)\n",
            "Requirement already satisfied: farama-notifications>=0.0.1 in /usr/local/lib/python3.10/dist-packages (from gymnasium) (0.0.4)\n",
            "Requirement already satisfied: gymnasium[accept-rom-license,atari] in /usr/local/lib/python3.10/dist-packages (1.0.0)\n",
            "\u001b[33mWARNING: gymnasium 1.0.0 does not provide the extra 'accept-rom-license'\u001b[0m\u001b[33m\n",
            "\u001b[0mRequirement already satisfied: numpy>=1.21.0 in /usr/local/lib/python3.10/dist-packages (from gymnasium[accept-rom-license,atari]) (1.26.4)\n",
            "Requirement already satisfied: cloudpickle>=1.2.0 in /usr/local/lib/python3.10/dist-packages (from gymnasium[accept-rom-license,atari]) (3.1.0)\n",
            "Requirement already satisfied: typing-extensions>=4.3.0 in /usr/local/lib/python3.10/dist-packages (from gymnasium[accept-rom-license,atari]) (4.12.2)\n",
            "Requirement already satisfied: farama-notifications>=0.0.1 in /usr/local/lib/python3.10/dist-packages (from gymnasium[accept-rom-license,atari]) (0.0.4)\n",
            "Requirement already satisfied: ale-py>=0.9 in /usr/local/lib/python3.10/dist-packages (from gymnasium[accept-rom-license,atari]) (0.10.1)\n",
            "Reading package lists... Done\n",
            "Building dependency tree... Done\n",
            "Reading state information... Done\n",
            "swig is already the newest version (4.0.2-1ubuntu1).\n",
            "0 upgraded, 0 newly installed, 0 to remove and 49 not upgraded.\n",
            "Requirement already satisfied: gymnasium[box2d] in /usr/local/lib/python3.10/dist-packages (1.0.0)\n",
            "Requirement already satisfied: numpy>=1.21.0 in /usr/local/lib/python3.10/dist-packages (from gymnasium[box2d]) (1.26.4)\n",
            "Requirement already satisfied: cloudpickle>=1.2.0 in /usr/local/lib/python3.10/dist-packages (from gymnasium[box2d]) (3.1.0)\n",
            "Requirement already satisfied: typing-extensions>=4.3.0 in /usr/local/lib/python3.10/dist-packages (from gymnasium[box2d]) (4.12.2)\n",
            "Requirement already satisfied: farama-notifications>=0.0.1 in /usr/local/lib/python3.10/dist-packages (from gymnasium[box2d]) (0.0.4)\n",
            "Requirement already satisfied: box2d-py==2.3.5 in /usr/local/lib/python3.10/dist-packages (from gymnasium[box2d]) (2.3.5)\n",
            "Requirement already satisfied: pygame>=2.1.3 in /usr/local/lib/python3.10/dist-packages (from gymnasium[box2d]) (2.6.1)\n",
            "Requirement already satisfied: swig==4.* in /usr/local/lib/python3.10/dist-packages (from gymnasium[box2d]) (4.2.1.post0)\n"
          ]
        }
      ],
      "source": [
        "!pip install gymnasium\n",
        "!pip install \"gymnasium[atari, accept-rom-license]\"\n",
        "!apt-get install -y swig\n",
        "!pip install gymnasium[box2d]"
      ]
    },
    {
      "cell_type": "markdown",
      "metadata": {
        "id": "lxPg7CbMew_A"
      },
      "source": [
        "Importing and Installing Gymnasium for the lunar landing simulation"
      ]
    },
    {
      "cell_type": "markdown",
      "metadata": {
        "id": "brqiMN3UW9T9"
      },
      "source": [
        "### Importing the libraries"
      ]
    },
    {
      "cell_type": "code",
      "execution_count": null,
      "metadata": {
        "id": "mZaKXP_aMl9O"
      },
      "outputs": [],
      "source": [
        "import os\n",
        "import random\n",
        "import numpy as np\n",
        "import torch\n",
        "import torch.nn as nn\n",
        "import torch.optim as optim\n",
        "import torch.nn.functional as F\n",
        "import torch.autograd as autograd\n",
        "from torch.autograd import Variable\n",
        "from collections import deque, namedtuple"
      ]
    },
    {
      "cell_type": "markdown",
      "metadata": {
        "id": "tFkKQYlQelcY"
      },
      "source": [
        "importing needed libararies in order to code the deep Q learning algorithm for the lumar landing module"
      ]
    },
    {
      "cell_type": "markdown",
      "metadata": {
        "id": "EzlDKXvkXzGI"
      },
      "source": [
        "## Part 1 - Building the AI"
      ]
    },
    {
      "cell_type": "markdown",
      "metadata": {
        "id": "UtG6Zc83YYy3"
      },
      "source": [
        "### Creating the architecture of the Neural Network"
      ]
    },
    {
      "cell_type": "code",
      "execution_count": null,
      "metadata": {
        "id": "b2OGTjJ98IkY"
      },
      "outputs": [],
      "source": [
        "class NeuralNetwork(nn.Module):\n",
        "    def __init__(self, state_size, action_size, seed = 42):\n",
        "        super(NeuralNetwork, self).__init__()\n",
        "        self.seed = torch.manual_seed(seed)\n",
        "        # generate randomness for seed\n",
        "        self.fc1 = nn.Linear(state_size, 64)\n",
        "        # full input layer and the full connected layer\n",
        "        # most optimal is 64 for being able to land on the moon\n",
        "        self.fc2 = nn.Linear(64, 64)\n",
        "        # number of neturons in the first full connected layer and second full connected layer\n",
        "        # Through experimentation, can say the second full connected layer would be 64\n",
        "        self.fc3 = nn.Linear(64, action_size)\n",
        "\n",
        "    def forward(self, state):\n",
        "      # prograte input layer to first full connected layer\n",
        "      # fc1 returns the first full connected layer and takes in state and gives the time\n",
        "      x = self.fc1(state)\n",
        "      # update the value of x and uses the recitifer function (activation function)\n",
        "      # It replaces all the negtive values with positve values (max, 0) and introduces\n",
        "      # non-linearlity as it zeros out weaker applications\n",
        "      x = F.relu(x)\n",
        "\n",
        "      # Do it to next layer as well\n",
        "      x = self.fc2(x)\n",
        "      x = F.relu(x)\n",
        "\n",
        "      # return the actions\n",
        "      return self.fc3(x)\n",
        "\n"
      ]
    },
    {
      "cell_type": "markdown",
      "metadata": {
        "id": "5ib0jNHRbvJL"
      },
      "source": [
        "**Explaination**:\n",
        "\n",
        "*Constructor:* This is brain of the machine learning model.\n",
        "\n",
        "Creating the constructor for the lunar landing deep q learning, which incorporates two fully connected layers to get to the actions that will be needed for AI model. The state size (observation layer) size is 8 and then two connected layers which is 64. It is most optimal for the lunar landing simulation. Finally final output layer is 4 which describes the actions which are 4 actions. 0 to do nothing, 1 fire left, 2 fire main engine, and 3 to fire right. This will result in a netural network of 8 (input)  -> 64 -> 64 -> 4 (output)\n",
        "\n",
        "\n",
        "\n",
        "\n",
        "\n",
        "*Foward Propagation:* This is the forward pass and moving input through netural network to the output\n",
        "\n",
        "This essential uses the contrustored fc1, fc2, and fc3 to get the output/actions after forward progation. It moves through the first layer of the netural network by taking in the state and returns the value of x which is passed through the rectiifer function. This function weakens applications by replacing it with zero making it non-linear. This is done to second layer as well and then the output is returned\n",
        "\n"
      ]
    },
    {
      "cell_type": "markdown",
      "metadata": {
        "id": "xvvdQd83x8Jb"
      },
      "source": []
    },
    {
      "cell_type": "markdown",
      "metadata": {
        "id": "UxVrBnFWZKb1"
      },
      "source": [
        "## Part 2 - Training the AI"
      ]
    },
    {
      "cell_type": "markdown",
      "metadata": {
        "id": "T364fz9qZb2j"
      },
      "source": [
        "### Setting up the environment"
      ]
    },
    {
      "cell_type": "code",
      "execution_count": null,
      "metadata": {
        "colab": {
          "base_uri": "https://localhost:8080/"
        },
        "id": "41sgnpCwtd5f",
        "outputId": "e3def555-0939-49d3-b73a-64dc7e333a96"
      },
      "outputs": [
        {
          "output_type": "stream",
          "name": "stdout",
          "text": [
            "State shape:  (8,)\n",
            "State size:  8\n",
            "Number of actions:  4\n"
          ]
        }
      ],
      "source": [
        "import gymnasium as gym\n",
        "env = gym.make('LunarLander-v3') # The Lunar Lander environment was upgraded to v3\n",
        "# get the lunar lader simulation\n",
        "\n",
        "# get the environment shape, size, and numver of actions\n",
        "state_shape = env.observation_space.shape\n",
        "# vector of 8 elements\n",
        "state_size = env.observation_space.shape[0]\n",
        "number_actions = env.action_space.n\n",
        "print('State shape: ', state_shape)\n",
        "print('State size: ', state_size)\n",
        "print('Number of actions: ', number_actions)"
      ]
    },
    {
      "cell_type": "markdown",
      "metadata": {
        "id": "c_dZmOIvZgj-"
      },
      "source": [
        "### Initializing the hyperparameters"
      ]
    },
    {
      "cell_type": "code",
      "execution_count": null,
      "metadata": {
        "id": "jqAtlDrwi0F7"
      },
      "outputs": [],
      "source": [
        "# Chose this after much experimenatation to get this learning rate\n",
        "learning_rate  = 5e-4\n",
        "# Number of the observation in one step to update the model's parameter\n",
        "# Common pratice is 100 usual size - no optimal size\n",
        "minibatch_size = 100\n",
        "# Present value of future rewards\n",
        "# Small makes it shortsighted and only look at current rewards\n",
        "# Closer to 1 will make it look at future rewards in accumulation to total reward\n",
        "# Want to do this instead of short sighted\n",
        "discount_factor = 0.99\n",
        "# Memory of the AI and how many experiences (state, action, reward, next state)\n",
        "replay_buffer_size = int(1e5)\n",
        "# Interplotation optimal value for landing on the moon\n",
        "interpolation_parameter = 1e-3\n"
      ]
    },
    {
      "cell_type": "markdown",
      "metadata": {
        "id": "WmlssHA6iy9Y"
      },
      "source": [
        "**Hyperparameters**\n",
        "\n",
        "The idea behind this setting up the hyperparameters for the setup of the AI model.\n",
        "\n",
        "The ***learning rate*** is how quickly or slowly a model learns by updating its weights. Representing the balance between learning efficently and avoiding overshotting the minimum error during training. *How quickly weights adjusted based on calculated gradients during training.*\n",
        "\n",
        "The  ***minibatch size*** is *number of observations process before the model  updates its paramaters*. A smaller batch size could make the learning noiser but quicker and the larger is more stable but slower to coverge.\n",
        "\n",
        "The ***discount factor*** determines *how much the model values the future rewards*. The closet to 1 makes more far sighted and more value on future rewards over time. The small value makes the model more focused on immediae rewards.\n",
        "\n",
        "The ***replay buffer size*** is the memory capacity where past experiences - states, actions, next states - are stored. The model uses these stored experiences to learn by replaying them which helps reduce correlation between samples and improves learning stability. This used to train the model holds a fixed numbver of past experiences and pick different points in time which reduce correlation between samples and improves the effectiveness of learning.\n",
        "\n",
        "The ***interpolation parameter*** help control the smoothing factor or rate of blending often used in updating target networks and interpolating values. The gentle adjustment for refining the model's actions or states which can be useful for precise tasks where small ajustiments matter significantly. *Control how much weight is given to the new information compared to exisiting knoweldge.*"
      ]
    },
    {
      "cell_type": "markdown",
      "source": [],
      "metadata": {
        "id": "-7oGLLZZhZWc"
      }
    },
    {
      "cell_type": "markdown",
      "metadata": {
        "id": "8hD_Vs-bYnip"
      },
      "source": [
        "### Implementing Experience Replay"
      ]
    },
    {
      "cell_type": "code",
      "execution_count": null,
      "metadata": {
        "id": "gfM12__SCTLY"
      },
      "outputs": [],
      "source": [
        "class ReplayMemory(object):\n",
        "  def __init__(self, capacity):\n",
        "    # using gpu if available else we are using a cpu`\n",
        "    self.device = torch.device(\"cuda:0\" if torch.cuda.is_available() else \"cpu\")\n",
        "    # maximum size of memory buffer - temporary hold data for experienced replay\n",
        "    self.capacity = capacity\n",
        "    # list that will store the experiences each storing state, action, and reward\n",
        "    self.memory = []\n",
        "\n",
        "  def push(self, event):\n",
        "    # adding an element into a list that is created in the constructor\n",
        "    self.memory.append(event)\n",
        "\n",
        "    # if it exceeeds the memory capacity after adding the event to memory delete first event\n",
        "    if len(self.memory) > self.capacity:\n",
        "      del self.memory[0]\n",
        "      # delete objects in python\n",
        "\n",
        "\n",
        "  # randomly select a batch of experiences from the memory buffer\n",
        "  def sample(self, batch_size):\n",
        "    experiences = random.sample(self.memory, k = batch_size)\n",
        "\n",
        "    # Stack the states and samples experiences together() - stack the states from the experiences\n",
        "    # Get first element in this case and check if it is existent and becomes a torch tensor for neutral network\n",
        "    # Needs to be a float and move it to the device whether it is cpu or gpu\n",
        "    states = torch.from_numpy(np.vstack([e[0] for e in experiences if e is not None])).float().to(self.device)\n",
        "    # get the actions\n",
        "    actions = torch.from_numpy(np.vstack([e[1] for e in experiences if e is not None])).long().to(self.device)\n",
        "    # get rewards\n",
        "    rewards = torch.from_numpy(np.vstack([e[2] for e in experiences if e is not None])).float().to(self.device)\n",
        "    next_states = torch.from_numpy(np.vstack([e[3] for e in experiences if e is not None])).float().to(self.device)\n",
        "    dones = torch.from_numpy(np.vstack([e[4] for e in experiences if e is not None]).astype(np.uint8)).float().to(self.device)\n",
        "    return states, next_states, actions, rewards, dones\n"
      ]
    },
    {
      "cell_type": "markdown",
      "metadata": {
        "id": "ywaaKOtVJhmV"
      },
      "source": [
        "#### **Constructor:**\n",
        "\n",
        "**Device:** The constructor uses a gpu if there is a gpu available else it uses a cpu. The CPU is small number of powerful forces in consumer modesl and highly optimized for single thread performanc. The GPU contains smaller simpler cores that can perform the same operation in multiple data points (parallel) efficent for reptitive and parallel calculations.\n",
        "\n",
        "**Capacity:** It creates a capacity which is size of the memory buffer.\n",
        "\n",
        "**Memory**: It also creates and stores the experiences each state, action, and reward in the memory array which is set to an empty list.\n",
        "\n",
        "\n",
        "\n",
        "#### **Push:**\n",
        "The add the event into memory list and if exceeds the capacity when adding it to memory then remove first memory item.\n",
        "\n",
        "\n",
        "\n",
        "\n",
        "#### **Sample:**\n",
        "This randomly selects a batch of experiences from a memory buffer. It creates a stack where is gathers all states, rewards, next_states, or dones from the experiences. It uses np.vstack which goes through the\n",
        "experiences and returns the stack of the index where the state, action, dones, next_states are located. Index 0 -> states, Index 1 -> actions, Index 2 -> rewards, and Index 3 -> next_states, Index 4 -> dones. After creating these stacks, it will be able to return these stacks.\n",
        "\n",
        "\n",
        "\n",
        "\n",
        "\n"
      ]
    },
    {
      "cell_type": "markdown",
      "metadata": {
        "id": "JmEkbFbUY6Jt"
      },
      "source": [
        "### Implementing the DQN class"
      ]
    },
    {
      "cell_type": "code",
      "execution_count": null,
      "metadata": {
        "id": "LO_JGzhGlm6b"
      },
      "outputs": [],
      "source": [
        "class Agent():\n",
        "  def __init__(self, state_size, action_size):\n",
        "    # using gpu if available else we are using a cpu`\n",
        "    # intialize the state and action size which will be inputed, this is inputted from our simulation\n",
        "    self.device = torch.device(\"cuda:0\" if torch.cuda.is_available() else \"cpu\")\n",
        "    self.state_size = state_size\n",
        "    self.action_size = action_size\n",
        "    # instance of netural network class to create the local and target q network and send to our device\n",
        "    self.local_qnetwork = NeuralNetwork(state_size, action_size).to(self.device)\n",
        "    self.target_qnetwork = NeuralNetwork(state_size, action_size).to(self.device)\n",
        "\n",
        "    # instance of the Adam to create an optimizer and update the weights to predict the weights to land on move\n",
        "    # learning rate is inputted too\n",
        "    self.optimizer = optim.Adam(self.local_qnetwork.parameters(), lr = learning_rate)\n",
        "\n",
        "    self.memory = ReplayMemory(replay_buffer_size)\n",
        "    # time step and which moment are we learning and updating the variables\n",
        "    self.t_step = 0\n",
        "\n",
        "\n",
        "\n",
        "  def step(self, state, action, reward, next_state, done):\n",
        "    self.memory.push((state, action, reward, next_state, done))\n",
        "    # increment the time step to 4 and if it is divisble by 4 then it will start learning\n",
        "    self.t_step = (self.t_step + 1) % 4\n",
        "\n",
        "    # learning\n",
        "    if self.t_step == 0:\n",
        "      # self.memory is an instance of the replay memory class so need to call memory call for self.memory\n",
        "\n",
        "      if len(self.memory.memory) > minibatch_size:\n",
        "        experiences = self.memory.sample(100)\n",
        "        self.learn(experiences, discount_factor)\n",
        "\n",
        "\n",
        "\n",
        "    # select action depending on a given state and action selection policy\n",
        "  def act(self, state, epsilon = 0.):\n",
        "    # need to make sure it is a torch tensor to be able to work with it\n",
        "    # we have 8 coordinates and now we will have to add another dimension which will correspond to the batch\n",
        "    # it will be added to the beginning and given to the device\n",
        "    state = torch.from_numpy(state).float().unsqueeze(0).to(self.device)\n",
        "    # instance of netural network class which is from the nn.module class\n",
        "    # set it into eval mode and foward pass the state [] -> [[]]\n",
        "    self.local_qnetwork.eval()\n",
        "    # check it is inference mode for making predictions not the training mode\n",
        "    with torch.no_grad():\n",
        "      action_values = self.local_qnetwork(state)\n",
        "    self.local_qnetwork.train()\n",
        "    if random.random() > epsilon:\n",
        "      return np.argmax(action_values.cpu().data.numpy())\n",
        "    else:\n",
        "      return random.choice(np.arange(self.action_size))\n",
        "    # foward pass those values into the local network and give the actions from that network - gives final action\n",
        "    # set to local training mode\n",
        "    # Using epilson greedy this is done by if the random number is larger than epilson pick largest q value\n",
        "    # otherwise pick a random action\n",
        "\n",
        "  def learn(self, experiences, discount_factor):\n",
        "    states, next_states, actions, rewards, dones = experiences\n",
        "    next_q_targets = self.target_qnetwork(next_states).detach().max(1)[0].unsqueeze(1)\n",
        "    # action values of next states and detach function actual detached tensor from computation graph in order to get the maximum\n",
        "    # get max of each row and it returns the max and the indices so get the actual max\n",
        "    # adds a dimension after each feature, [] , [[],[],[]]\n",
        "\n",
        "    # compute the q target for our current state\n",
        "    q_targets = rewards + discount_factor * next_q_targets * (1 - dones)\n",
        "    q_expected = self.local_qnetwork(states).gather(1, actions)\n",
        "    # calculate the loss\n",
        "    loss = F.mse_loss(q_expected, q_targets)\n",
        "    # reset it\n",
        "    self.optimizer.zero_grad()\n",
        "    # backprograte the loss\n",
        "    loss.backward()\n",
        "    # does one single optimization step\n",
        "    self.optimizer.step()\n",
        "    # allow it update the target network slowly and follow improvements withput changing too rapidly\n",
        "    self.soft_update(self.local_qnetwork, self.target_qnetwork, interpolation_parameter)\n",
        "\n",
        "  def soft_update(self, local_model, target_model, interpolation_parameter):\n",
        "    for target_param, local_param in zip(target_model.parameters(), local_model.parameters()):\n",
        "      target_param.data.copy_(interpolation_parameter * local_param.data + (1.0 - interpolation_parameter) * target_param.data)"
      ]
    },
    {
      "cell_type": "markdown",
      "metadata": {
        "id": "Qc1GqTddllsQ"
      },
      "source": [
        "Creates an agent class with deep q learning and interacting with the environment with local and target q network. Local q network select actions and target will calculate the target q values used in the training the local q network. It stablizes the learning process and soft update will update the target network parameters by blending them local q network to stop abpurt changes which destablizes the training. The act method will help the agent chose an agent and actions will be returned from the local q network that will forward progratate the state value and follow an epsilon greedy policy and return final action (used as exploration mechansim - random actions). Learn method uses experiences that are sampled from the replay memory in order to update the local q network towards the target q values.\n",
        "\n",
        "#### Constructor\n",
        "This creates reinforcement leaning agent intailizes keu components required to interact with an environment and learn through Q learning approach. It uses the gpu if possible. It also intailizes the state size and the actions size which are import input and output layers of the netural netorks. The local network is main network for selecting actions, the agent chooses actions based on the Q values predicted by this betwork. The target netowk is secondary network used to calculate the target q values. These are the expected rewards which the agents aims to learn overtime. Reduces the risk of local network chasing its own tail leading to better convergerence. The optimizer is for updating the weights of local network during training with the learning rate which is a hyperparameter that determines the size of the update steps durign training, balancing speed with stability. It aims to minimize the loss between the predicted and target q values by adjusting the weights in local network. The memory is an instance of replay memory which stores past experiences that agent has encountered. It controls the maximum capacity of this memory sampling. There is also a t_Step which keeps track of environements current step in the environment and tracking time steps where the agent can perform learning updates at specfic time intervals.\n",
        "\n",
        "\n",
        "#### Step\n",
        "The step function takes in the state, action, reward, next state, and the done. The experiences tuple is then pushed to the replay buffer by calling self.memory.push. The time is incremented by 1 each time till it reaches 4, then it resets to 0 and triggers the learning process. If the time step is 0 and the memory has enough experiences to be sampled when the memory is bigger than the minibatch, then it selected to be sampeld sand then that is used for learning. The discounted factor is used for reinforcement leaning to calculate the discounted future rewards how much it values future rewards.\n",
        "\n",
        "\n",
        "#### Action\n",
        "The action function is decding which acction the agent should take based on the given state and exploration parameter epilson. The function implments epilson-greeedy policy. It choses the the action with the highest predicted q-value but if lower than epilson choses a random action to encourage exploration. The torch from num py allows it to used with neutral netowk and add an extra dimension to the beginning of the tensor turing the state with batch is front and inputs it into the cpu or gpu. It puts the network into evaulation mode and disables graident computation. It gives a foward pass through the netowk with the current state and gives q-valyes for each action in the given state. It switches back to training mode where it does the epilsion greedy policy. It returns the argmax which gives the index of the maximum value to give the action it should take (0,1,2,3). Allows to access the action_values data and use numpy to get the tensor to numpy array or choses from an array of action values and picks randomly the action.\n",
        "\n",
        "#### Learning\n",
        "This is helped the agent learn from past experiences, In each exepriences, ai has to take an action, recieve a reward, and end up in a new situation. The goal for agent is use these experiences to predict the best actions should take in each state to get the highest possible reward. There is two networks one which is local and the other which is target. The local network is constantly learning and being updated - represents the agents current understanding of which actions lead to best rewards. The target network tries to match - helps to keep the training stable and prevents wild changes. The agents uses the target q-network to preduict the best possible reward it could get from each next state by taking the best actio - this is done by finding the max of each state, detaching it. For the each experience, the AI computes a target value to aim for each state and how good each action is. It does this by computing the immediate reward. + discount factor (estimates what it would get int he future from next state) * next q_targets * (1-done ) which is saying if it is done than it zeros the future reward. Done is 0 if not the target and Done is 1 then it is at target. It also calculates the expected value from the states using the local q network and it is used to extract the q value for the specifc action that was taken in each state and it uses the gather function to take the index of the specfic action (q-value) for each state. It calculates the loss between the expected and the target q values. It uses the self.optimize.sero_grad to clear previous graiddents and computes the gradients of the loss with repsect to the q network then updates the q netowrok using the parameters of the gradient. The loss backward tells how much loss each gradient parameers needs to adjust and the step allows it update the model based on the computed gradients - reducing the loss. It calls a soft update to gradually align the target q network with local q network with the interpolation parameter which gradually puts new information with the exisiting information.\n",
        "\n",
        "Need two networks to provide stability and uses the interpolation parameter to slowly change the network. It provides stability so it does not rapidly chnage values and instability and chasing its own estimates.\n",
        "\n",
        "\n",
        "**Backprogation**: The loss function calculates the gradients which show the affect when it is changed hence if you change one more weight than it will affect the others. Goal is to get the most meaningful to have higher weight to be more impactful. It updates the parameters by doing backprogration from the loss function in order to ger the most ideal \"action\" for that state and it learns from every batch.\n",
        "\n",
        "\n",
        "#### Soft Update\n",
        "It is able to update the target parameter to align with the local parameters by using a interpolation parameter to slowly update the parameter. This is done by multiplying the interpolation parameter with local parameter and the rest of percentage will be the target parameter added together."
      ]
    },
    {
      "cell_type": "markdown",
      "metadata": {
        "id": "o1tZElccZmf6"
      },
      "source": [
        "### Initializing the DQN agent"
      ]
    },
    {
      "cell_type": "code",
      "execution_count": null,
      "metadata": {
        "id": "oJd9UnB9mWi0"
      },
      "outputs": [],
      "source": [
        "agent = Agent(state_size, number_actions)"
      ]
    },
    {
      "cell_type": "markdown",
      "metadata": {
        "id": "E8v0PtUfaVQp"
      },
      "source": [
        "### Training the DQN agent"
      ]
    },
    {
      "cell_type": "code",
      "execution_count": null,
      "metadata": {
        "colab": {
          "base_uri": "https://localhost:8080/"
        },
        "id": "mEItjcstm3W_",
        "outputId": "dce22826-80ed-4073-c675-e317250656c9"
      },
      "outputs": [
        {
          "output_type": "stream",
          "name": "stdout",
          "text": [
            "Episode 100\tAverage Score: -173.75\n",
            "Episode 200\tAverage Score: -136.14\n",
            "Episode 300\tAverage Score: -54.68\n",
            "Episode 400\tAverage Score: 6.26\n",
            "Episode 500\tAverage Score: 99.97\n",
            "Episode 600\tAverage Score: 179.58\n",
            "Episode 631\tAverage Score: 200.57\n",
            "Enivornment solved in 531 episodes!\tAverage Score: 200.57\n"
          ]
        }
      ],
      "source": [
        "# max number of episodes\n",
        "number_episodes = 2000\n",
        "# max time per episodes\n",
        "maximum_number_timesteps_per_episode = 1000\n",
        "epsilon_starting_value = 1.0\n",
        "epsilon_ending_value = 0.01\n",
        "epsilon_decay_value = 0.995\n",
        "epsilon = epsilon_starting_value\n",
        "scores_on_100_episodes = deque(maxlen = 100)\n",
        "# decrement epsilon\n",
        "\n",
        "for episode in range(1, number_episodes + 1):\n",
        "  # reset to initial state\n",
        "  state, _ = env.reset()\n",
        "  score = 0\n",
        "  for t in range(maximum_number_timesteps_per_episode):\n",
        "    action = agent.act(state, epsilon)\n",
        "    # act selcts an action in a given state following an epsilon greedy policy\n",
        "    # the gynasium calculates the reward, next state, done, all from the environment step and takes this and uses it for the agent step\n",
        "    next_state, reward, done, _, _ = env.step(action)\n",
        "    # shows that action does to the environmet\n",
        "    # agent acts on this and learns on the current state to next state\n",
        "    agent.step(state, action, reward, next_state, done)\n",
        "    state = next_state\n",
        "    score += reward\n",
        "    if done:\n",
        "      break\n",
        "  # append of the score of the action taken\n",
        "  scores_on_100_episodes.append(score)\n",
        "  # decrements the epsilon\n",
        "  epsilon = max(epsilon_ending_value, epsilon_decay_value * epsilon)\n",
        "  # dynamic print - removed to make room and \\r to loop back\n",
        "  print('\\rEpisode {}\\tAverage Score: {:.2f}'.format(episode, np.mean(scores_on_100_episodes)), end = \"\")\n",
        "  if episode % 100 == 0:\n",
        "    print('\\rEpisode {}\\tAverage Score: {:.2f}'.format(episode, np.mean(scores_on_100_episodes)))\n",
        "  if np.mean(scores_on_100_episodes) >= 200.0:\n",
        "    print('\\nEnivornment solved in {:d} episodes!\\tAverage Score: {:.2f}'.format(episode - 100, np.mean(scores_on_100_episodes)))\n",
        "    torch.save(agent.local_qnetwork.state_dict(), 'checkpoint.pth')\n",
        "    break\n",
        "\n",
        "\n",
        "\n",
        "\n"
      ]
    },
    {
      "cell_type": "markdown",
      "metadata": {
        "id": "wZFvnmiu91df"
      },
      "source": [
        "Training:\n",
        "The maximum number of episdoes to run in training and the max number of timesteps per episodes. The starting value for epsilon was set to to 1 which controls the exploration rate in an epsilon-greedy policy. The minimum epsilon value would be 0.01 to ensure some level of epxloration even at the end of training. The decay to reduce epsilon after each episode this shifts exploration to expoliation. Through each episode, the environment resets to an intial configuration and the score keeps a track of cummulative reward to current episdoe. An episode is a complete sequence of interactions between the agent and the environment from inital state and ened swhen terminal condition is met. The agent selects an action based on current state following an epsilon greedy policy. The probablity of epsilon greedy policy, takes a randon action otherwise the best known action. It excutes a action in the environmenet returning the resulting state, reward taking the action, and the boolean indicating whether episode has ended. It updates the agantt experience based on the transition from current state to next state. If done is true then the episode ends early. The cummulative score for the epside keeping the last 100 scores using deque. The epsilon decreases each episode allowing the agent to explore less over time but ensuring it doesn't fall below the epsilon ending value.\n",
        "\n",
        "\n",
        "Overtime, with dynamic printing you can see that the score gets increasing the scores and keeps learning. It updates thre model parameters and improves. The positive average score and keeps learning overtime and will stop if its average score is 200."
      ]
    },
    {
      "cell_type": "markdown",
      "metadata": {
        "id": "O8CNwdOTcCoP"
      },
      "source": [
        "## Part 3 - Visualizing the results"
      ]
    },
    {
      "cell_type": "code",
      "execution_count": null,
      "metadata": {
        "colab": {
          "base_uri": "https://localhost:8080/",
          "height": 458
        },
        "id": "cb9nVvU2Okhk",
        "outputId": "9a603aae-a7cb-4386-dc79-723df311202f"
      },
      "outputs": [
        {
          "output_type": "stream",
          "name": "stderr",
          "text": [
            "WARNING:imageio_ffmpeg:IMAGEIO FFMPEG_WRITER WARNING: input image is not divisible by macro_block_size=16, resizing from (600, 400) to (608, 400) to ensure video compatibility with most codecs and players. To prevent resizing, make your input image divisible by the macro_block_size or set the macro_block_size to 1 (risking incompatibility).\n"
          ]
        },
        {
          "output_type": "display_data",
          "data": {
            "text/plain": [
              "<IPython.core.display.HTML object>"
            ],
            "text/html": [
              "<video alt=\"test\" autoplay\n",
              "                loop controls style=\"height: 400px;\">\n",
              "                <source src=\"data:video/mp4;base64,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\" type=\"video/mp4\" />\n",
              "             </video>"
            ]
          },
          "metadata": {}
        }
      ],
      "source": [
        "import glob\n",
        "import io\n",
        "import base64\n",
        "import imageio\n",
        "from IPython.display import HTML, display\n",
        "\n",
        "def show_video_of_model(agent, env_name):\n",
        "    env = gym.make(env_name, render_mode='rgb_array')\n",
        "    state, _ = env.reset()\n",
        "    done = False\n",
        "    frames = []\n",
        "    while not done:\n",
        "        frame = env.render()\n",
        "        frames.append(frame)\n",
        "        action = agent.act(state)\n",
        "        state, reward, done, _, _ = env.step(action.item())\n",
        "    env.close()\n",
        "    imageio.mimsave('video.mp4', frames, fps=30)\n",
        "\n",
        "show_video_of_model(agent, 'LunarLander-v3')\n",
        "\n",
        "def show_video():\n",
        "    mp4list = glob.glob('*.mp4')\n",
        "    if len(mp4list) > 0:\n",
        "        mp4 = mp4list[0]\n",
        "        video = io.open(mp4, 'r+b').read()\n",
        "        encoded = base64.b64encode(video)\n",
        "        display(HTML(data='''<video alt=\"test\" autoplay\n",
        "                loop controls style=\"height: 400px;\">\n",
        "                <source src=\"data:video/mp4;base64,{0}\" type=\"video/mp4\" />\n",
        "             </video>'''.format(encoded.decode('ascii'))))\n",
        "    else:\n",
        "        print(\"Could not find video\")\n",
        "\n",
        "show_video()"
      ]
    },
    {
      "cell_type": "markdown",
      "source": [
        "It is already trained so we just need to use the step method and and act do not need to train it"
      ],
      "metadata": {
        "id": "I7jnuYHIEeYZ"
      }
    },
    {
      "cell_type": "markdown",
      "source": [
        "Overall, this agent solve the Lunar Lander environment, as classic reinforcement learning task where an agent learns to land a spacecreaft safely.\n",
        "\n",
        "Part 0: Installing and Importing Packages\n",
        "- packages are installed\n",
        "- libraries imported\n",
        "\n",
        "Part 1: Building Neural Network\n",
        "- Architecture: It has three connected layeers\n",
        "  - Input later with state size nodes\n",
        "  - Two hidden with 64 neurons layers - relu activations\n",
        "  - Output layer with action size node for the each actions predicted Q value\n",
        "\n",
        "Part 2: Training AI model\n",
        "- Setting up the environment:\n",
        "  - The lunar lander environment from gynamisum is loaded. The environment observations space shape, state size, and number of possible actions are printed\n",
        "\n",
        "- Hyperparameters:\n",
        "  - Learning rate, discount factor for future reward, replay buffer size for experience replay, interpolation parameter for soft updates target network are initalized.\n",
        "\n",
        "- Experience Replay:\n",
        "  - Replay Memory is used to store and sample experiences\n",
        "    - push: adds new experience to memory, removing the oldest if buffer exceeds capacity\n",
        "    - sample: samples a random baych of experiences to break temporal correlations in training and help stablize the learning process\n",
        "\n",
        "- DQN agent:\n",
        "  - Controls the DQN agent training and action selection.\n",
        "  - Network Initalization: Two networks intialized\n",
        "    - Local network: used for predicting q values during action selection and learning.\n",
        "    - Target network: Used for calculating stable target values during training\n",
        "  - Optimizer: Adam optimizer with specficed learning rate\n",
        "  - Experience Replay: a buffer for storing and sampling experiences\n",
        "  - Step Function:\n",
        "    - Stores experiences and updates the q network every 4 steps if enough experiences are available\n",
        "  - Action Selection\n",
        "    - The probability epsilon, the agent choses a random action (exploration)\n",
        "    - Otherwise, selects actions with highest predicted q-value\n",
        "    - The epsilon decarys over time, encouraging the agent to explore initally and exploit more as it learns\n",
        "\n",
        "  - Learning Function:\n",
        "    - The function updates the q-network\n",
        "    - target q-values: calculated using the target network on the next state with the highest q value selected\n",
        "    - q loss calculation: Mean squared error loss between expected and target q values\n",
        "    - loss is backpropagated through the network and weights are updated through optimizer\n",
        "\n",
        "  - Soft Update:\n",
        "    - Smoothly updates the target network\n",
        "    - Updates each parameter in target network as weighted average of itself and the corresponding parameter from local network.\n",
        "\n",
        "\n",
        "Remember the q network for local is for training goes towards the target network which gets updated using the calculate of the q forumla.\n",
        "\n",
        "- Training Look\n",
        "  - Agent is trained over multiple episodes\n",
        "  - State Reset: resets the environeent and tracks the score per episode\n",
        "  - Action Selection and Reward Collection: agent selects actions interacts with the environment and storees rewards\n",
        "  - Episode End: The environemnt is solved if the average score is 200 over 100 episodes traing stops and model weights are saved.\n",
        "  - Epislon Decay: epsilon decays with each episode to reduce exploration gradually\n",
        "\n",
        "Part 3: Visualizing Results\n",
        "- two functions display the trained agent's performance visually\n",
        "- show video of model shows video of trained agent interacting with the environment.\n",
        "\n",
        "\n"
      ],
      "metadata": {
        "id": "HI7ayjeNGLyj"
      }
    }
  ],
  "metadata": {
    "colab": {
      "provenance": [],
      "include_colab_link": true
    },
    "kernelspec": {
      "display_name": "Python 3",
      "name": "python3"
    },
    "language_info": {
      "name": "python"
    }
  },
  "nbformat": 4,
  "nbformat_minor": 0
}